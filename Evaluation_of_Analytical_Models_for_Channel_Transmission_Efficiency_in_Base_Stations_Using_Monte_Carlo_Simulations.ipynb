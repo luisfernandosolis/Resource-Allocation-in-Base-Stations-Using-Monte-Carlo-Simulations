{
  "nbformat": 4,
  "nbformat_minor": 0,
  "metadata": {
    "colab": {
      "provenance": []
    },
    "kernelspec": {
      "name": "python3",
      "display_name": "Python 3"
    },
    "language_info": {
      "name": "python"
    }
  },
  "cells": [
    {
      "cell_type": "markdown",
      "source": [
        "# Evaluation of Analytical Models for Channel Transmission Efficiency in Base Stations Using Monte Carlo Simulations\n"
      ],
      "metadata": {
        "id": "6dpV3NK4URX7"
      }
    },
    {
      "cell_type": "code",
      "source": [
        "import pandas as pd\n",
        "import numpy as np\n",
        "import matplotlib.pyplot as plt\n",
        "import random\n",
        "import math"
      ],
      "metadata": {
        "id": "b8faqD4hVwJ3"
      },
      "execution_count": 1,
      "outputs": []
    },
    {
      "cell_type": "markdown",
      "source": [
        "##Parámetros"
      ],
      "metadata": {
        "id": "M_CVBnqeVrX_"
      }
    },
    {
      "cell_type": "code",
      "source": [
        "M = 100 # Number of Base station channel (preambulos)\n",
        "N = 200 # Number of devices\n",
        "K = [10**k for k in range(1,6)] # Number of simulations"
      ],
      "metadata": {
        "id": "WbU6tXI-Vpjz"
      },
      "execution_count": 2,
      "outputs": []
    },
    {
      "cell_type": "markdown",
      "source": [
        "#Modelado Analitico"
      ],
      "metadata": {
        "id": "-BEbM5gDVnl2"
      }
    },
    {
      "cell_type": "markdown",
      "source": [
        "## Contexto y Supuestos\n"
      ],
      "metadata": {
        "id": "_smel4N7V6uv"
      }
    },
    {
      "cell_type": "markdown",
      "source": [
        "- **Selección Uniforme de Canales**:\n",
        "    \n",
        "    Cada uno de los 10 canales tiene una probabilidad de `1/M` de ser elegido por cualquier dispositivo."
      ],
      "metadata": {
        "id": "1X3Ep0mrV8CZ"
      }
    },
    {
      "cell_type": "markdown",
      "source": [
        "- **Distribución de Dispositivos**:\n",
        "\n",
        "    Hay `N` dispositivos en total.\n"
      ],
      "metadata": {
        "id": "duEXItX9WK7h"
      }
    },
    {
      "cell_type": "markdown",
      "source": [
        "- Éxito del Suceso:\n",
        "  \n",
        "    Un suceso exitoso ocurre cuando un canal es elegido solo por un dispositivo."
      ],
      "metadata": {
        "id": "GcAB7TeKWU5q"
      }
    },
    {
      "cell_type": "markdown",
      "source": [
        "- Distribución de Poisson:\n",
        "\n",
        "  La probabilidad de un suceso correcto sigue una distribución de Poisson, donde `X` es la cantidad de dispositivos que se conectaron solo a un canal y `N` es el número total de dispositivos."
      ],
      "metadata": {
        "id": "-kr-7jYrWddZ"
      }
    },
    {
      "cell_type": "markdown",
      "source": [
        "\\begin{equation}\n",
        "\\\n",
        "P(X = k) = \\binom{n}{k} p^k (1 - p)^{n - k}\n",
        "\\\n",
        "\\end{equation}"
      ],
      "metadata": {
        "id": "1D9hQE8GYR5p"
      }
    },
    {
      "cell_type": "markdown",
      "source": [
        "Donde\n",
        "𝑘\n",
        "=\n",
        "1 (queremos exactamente un dispositivo en un canal) y\n",
        "𝑝 = 1/`M`\n",
        " ."
      ],
      "metadata": {
        "id": "HqzMB6wlYyN5"
      }
    },
    {
      "cell_type": "markdown",
      "source": [
        "La media\n",
        "𝜆 para la distribución de Poisson es\n",
        "𝑛⋅𝑝\n",
        "En nuestro caso:"
      ],
      "metadata": {
        "id": "PDBXsyr6ZMij"
      }
    },
    {
      "cell_type": "code",
      "source": [
        "#Cantidad media de dispositivos que se conectaron con suceso\n",
        "mean_poisson = N * (1/M)\n",
        "mean_poisson"
      ],
      "metadata": {
        "id": "wxIheQzZVJe_",
        "colab": {
          "base_uri": "https://localhost:8080/"
        },
        "outputId": "ed5350ec-8c32-4c98-f878-51f8c330d9a3"
      },
      "execution_count": 3,
      "outputs": [
        {
          "output_type": "execute_result",
          "data": {
            "text/plain": [
              "2.0"
            ]
          },
          "metadata": {},
          "execution_count": 3
        }
      ]
    },
    {
      "cell_type": "markdown",
      "source": [
        "Entonces, la probabilidad de que exactamente un dispositivo se conecte a un canal específico (y los demás no se conecten a ese canal) usando la distribución de Poisson es:"
      ],
      "metadata": {
        "id": "odqGJo8Ga_BJ"
      }
    },
    {
      "cell_type": "markdown",
      "source": [
        "\\begin{equation}\n",
        "\\\n",
        "P(X = 1) = \\frac{\\lambda^1 e^{-\\lambda}}{1!} = \\frac{2^1 e^{-2}}{1} = 2e^{-2}\n",
        "\\\n",
        "\\end{equation}"
      ],
      "metadata": {
        "id": "-gWftesAbICY"
      }
    },
    {
      "cell_type": "code",
      "source": [
        "mean_poisson * math.exp(-mean_poisson)"
      ],
      "metadata": {
        "colab": {
          "base_uri": "https://localhost:8080/"
        },
        "id": "3GyVufGanwDm",
        "outputId": "cfc14510-cac2-4c57-d9ad-1e59dddd435b"
      },
      "execution_count": 4,
      "outputs": [
        {
          "output_type": "execute_result",
          "data": {
            "text/plain": [
              "0.2706705664732254"
            ]
          },
          "metadata": {},
          "execution_count": 4
        }
      ]
    },
    {
      "cell_type": "markdown",
      "source": [
        "Paso 5: Probabilidad Total de un Suceso Correcto\n"
      ],
      "metadata": {
        "id": "uhyBTXS5bjQr"
      }
    },
    {
      "cell_type": "markdown",
      "source": [
        "Dado que hay 10 canales, y cada uno tiene la misma probabilidad de ser seleccionado solo una vez:"
      ],
      "metadata": {
        "id": "2j4ENOPcbnsw"
      }
    },
    {
      "cell_type": "markdown",
      "source": [
        "\\begin{equation}\n",
        "\\\n",
        "P(\\text{un suceso correcto}) = M \\cdot P(X = 1) = M \\cdot 2e^{-2} = M\\cdot2e^{-2}\n",
        "\\\n",
        "\\end{equation}"
      ],
      "metadata": {
        "id": "SldHN4l8busb"
      }
    },
    {
      "cell_type": "code",
      "source": [
        "import math\n",
        "p_suceso = M * mean_poisson * math.exp(-mean_poisson)\n",
        "p_suceso"
      ],
      "metadata": {
        "colab": {
          "base_uri": "https://localhost:8080/"
        },
        "id": "jgkG7GyCe1OI",
        "outputId": "bf7d7c30-a535-4573-fb07-7e4578129b65"
      },
      "execution_count": 5,
      "outputs": [
        {
          "output_type": "execute_result",
          "data": {
            "text/plain": [
              "27.06705664732254"
            ]
          },
          "metadata": {},
          "execution_count": 5
        }
      ]
    },
    {
      "cell_type": "code",
      "source": [
        "base_station_channel ={\n",
        "\n",
        "  }\n",
        "\n",
        "users = list(range(N))"
      ],
      "metadata": {
        "id": "DZLPjVURcojo"
      },
      "execution_count": 6,
      "outputs": []
    },
    {
      "cell_type": "code",
      "source": [
        "# create base station channels\n",
        "for channel_id in range(M):\n",
        "  base_station_channel[str(channel_id)] = []"
      ],
      "metadata": {
        "id": "Pphfbu-gVpWF"
      },
      "execution_count": 7,
      "outputs": []
    },
    {
      "cell_type": "code",
      "source": [
        "#Cantidad de canales\n",
        "#base_station_channel"
      ],
      "metadata": {
        "id": "tWbuJrnKcp8I"
      },
      "execution_count": 8,
      "outputs": []
    },
    {
      "cell_type": "code",
      "source": [],
      "metadata": {
        "id": "-_q9_NRxiqlA"
      },
      "execution_count": 8,
      "outputs": []
    },
    {
      "cell_type": "code",
      "source": [
        "## Transmisiones bien sucedidas\n",
        "import pandas as pd\n",
        "data_results = {\n",
        "    'iteration':[],\n",
        "    'success_transmition':[],\n",
        "    'collision_transmition':[],\n",
        "    'preambles_not_selected' : []\n",
        "}\n",
        "\n",
        "for iter in K:\n",
        "  for i in range(iter):\n",
        "\n",
        "    ## assign a user to base station channel\n",
        "    for user in users:\n",
        "      random_channel = random.choice(list(base_station_channel.keys())) ## choice\n",
        "      base_station_channel[str(random_channel)].append(user) ## add user to preambule\n",
        "\n",
        "    #Store success channels\n",
        "    results_success=[]\n",
        "\n",
        "    ## Store when collition exist\n",
        "    results_collision=[]\n",
        "\n",
        "    ## Preambles that not used\n",
        "    results_preamble_not_selected = []\n",
        "\n",
        "\n",
        "\n",
        "\n",
        "    #Verificamos los usuarios que eligieron un solo preámbulo - success\n",
        "    results_success.append([k for k, v in base_station_channel.items() if len(v) == 1])\n",
        "\n",
        "    #Verificamos los usuarios que eligieron más de un preambulo  - success\n",
        "    results_collision.append([k for k, v in base_station_channel.items() if len(v) > 1])\n",
        "\n",
        "    #Verificamos los preambulos que no fueron elegidos por ningun usuario\n",
        "    results_preamble_not_selected.append([k for k, v in base_station_channel.items() if len(v) == 0])\n",
        "\n",
        "\n",
        "\n",
        "\n",
        "    ##  Cantidad de canales elegidos solo por u usuario entre el total de canales (transmisiones bien sucedidas)\n",
        "    p_suceso = (len(results_success[0])/M)\n",
        "    #print(f'k = {i} - p = {p_suceso}')\n",
        "\n",
        "    ##  Cantidad de canales elegidos por más de un usuario entre el total de canales (Collition de preámbulo)\n",
        "    p_collition = (len(results_collision[0])/M)\n",
        "\n",
        "    ##  Cantidad % de canales que no fueron elegidos por ningun dispositivo\n",
        "    p_preamble_not_selected = (len(results_preamble_not_selected[0])/M)\n",
        "\n",
        "\n",
        "\n",
        "\n",
        "\n",
        "\n",
        "    data_results['iteration'].append(i)\n",
        "    data_results['success_transmition'].append(p_suceso)\n",
        "    data_results['collision_transmition'].append(p_collition)\n",
        "    data_results['preambles_not_selected'].append(p_preamble_not_selected)\n",
        "\n",
        "    #reiniciar valores\n",
        "    results_success=[]\n",
        "    results_collision=[]\n",
        "    for k in base_station_channel: base_station_channel[k].clear()\n",
        "\n",
        "  df=pd.DataFrame(data_results)\n",
        "  df.to_csv(f'results_k_{iter}.csv')\n",
        "  data_results = {\n",
        "    'iteration':[],\n",
        "    'success_transmition':[],\n",
        "    'collision_transmition':[],\n",
        "    'preambles_not_selected' : []\n",
        "  }\n",
        "\n",
        "\n",
        "\n"
      ],
      "metadata": {
        "id": "SoDd6ChRRHsK"
      },
      "execution_count": 9,
      "outputs": []
    },
    {
      "cell_type": "markdown",
      "source": [
        "# Analytics"
      ],
      "metadata": {
        "id": "f7JHhjq7nKJ0"
      }
    },
    {
      "cell_type": "code",
      "source": [
        "# Crear DataFrames de ejemplo\n",
        "df_10 = pd.read_csv('/content/results_k_10.csv')\n",
        "df_100 = pd.read_csv('/content/results_k_100.csv')\n",
        "df_1000 = pd.read_csv('/content/results_k_1000.csv')\n",
        "df_10000 = pd.read_csv('/content/results_k_10000.csv')\n",
        "df_100000 = pd.read_csv('/content/results_k_100000.csv')\n",
        "\n",
        "# Diccionario de DataFrames y sus iteraciones\n",
        "dataframes = {\n",
        "    'df_10': 10,\n",
        "    'df_100': 100,\n",
        "    'df_1000': 1000,\n",
        "    'df_10000': 10000,\n",
        "    'df_100000': 100000\n",
        "}\n",
        "\n",
        "# Lista para almacenar los DataFrames con la columna adicional\n",
        "updated_dfs = []\n",
        "\n",
        "# Iterar sobre los DataFrames y agregar la columna de iteraciones\n",
        "for df_name, iterations in dataframes.items():\n",
        "    df = globals()[df_name].copy()  # Obtener el DataFrame por su nombre\n",
        "    df['iterations'] = iterations  # Agregar la columna de iteraciones\n",
        "    updated_dfs.append(df)  # Agregar el DataFrame actualizado a la lista\n",
        "\n",
        "# Concatenar todos los DataFrames en uno solo\n",
        "combined_df = pd.concat(updated_dfs, ignore_index=True)\n",
        "\n",
        "# Mostrar el DataFrame combinado\n",
        "combined_df.head()"
      ],
      "metadata": {
        "colab": {
          "base_uri": "https://localhost:8080/",
          "height": 206
        },
        "id": "tAF7R1Jcac3D",
        "outputId": "cadf7a08-f41c-4f36-a573-5b071590472f"
      },
      "execution_count": 10,
      "outputs": [
        {
          "output_type": "execute_result",
          "data": {
            "text/plain": [
              "   Unnamed: 0  iteration  success_transmition  collision_transmition  \\\n",
              "0           0          0                 0.30                   0.61   \n",
              "1           1          1                 0.25                   0.58   \n",
              "2           2          2                 0.25                   0.62   \n",
              "3           3          3                 0.31                   0.58   \n",
              "4           4          4                 0.27                   0.60   \n",
              "\n",
              "   preambles_not_selected  iterations  \n",
              "0                    0.09          10  \n",
              "1                    0.17          10  \n",
              "2                    0.13          10  \n",
              "3                    0.11          10  \n",
              "4                    0.13          10  "
            ],
            "text/html": [
              "\n",
              "  <div id=\"df-885075d7-5be5-4f76-b8c9-9a73e02e832b\" class=\"colab-df-container\">\n",
              "    <div>\n",
              "<style scoped>\n",
              "    .dataframe tbody tr th:only-of-type {\n",
              "        vertical-align: middle;\n",
              "    }\n",
              "\n",
              "    .dataframe tbody tr th {\n",
              "        vertical-align: top;\n",
              "    }\n",
              "\n",
              "    .dataframe thead th {\n",
              "        text-align: right;\n",
              "    }\n",
              "</style>\n",
              "<table border=\"1\" class=\"dataframe\">\n",
              "  <thead>\n",
              "    <tr style=\"text-align: right;\">\n",
              "      <th></th>\n",
              "      <th>Unnamed: 0</th>\n",
              "      <th>iteration</th>\n",
              "      <th>success_transmition</th>\n",
              "      <th>collision_transmition</th>\n",
              "      <th>preambles_not_selected</th>\n",
              "      <th>iterations</th>\n",
              "    </tr>\n",
              "  </thead>\n",
              "  <tbody>\n",
              "    <tr>\n",
              "      <th>0</th>\n",
              "      <td>0</td>\n",
              "      <td>0</td>\n",
              "      <td>0.30</td>\n",
              "      <td>0.61</td>\n",
              "      <td>0.09</td>\n",
              "      <td>10</td>\n",
              "    </tr>\n",
              "    <tr>\n",
              "      <th>1</th>\n",
              "      <td>1</td>\n",
              "      <td>1</td>\n",
              "      <td>0.25</td>\n",
              "      <td>0.58</td>\n",
              "      <td>0.17</td>\n",
              "      <td>10</td>\n",
              "    </tr>\n",
              "    <tr>\n",
              "      <th>2</th>\n",
              "      <td>2</td>\n",
              "      <td>2</td>\n",
              "      <td>0.25</td>\n",
              "      <td>0.62</td>\n",
              "      <td>0.13</td>\n",
              "      <td>10</td>\n",
              "    </tr>\n",
              "    <tr>\n",
              "      <th>3</th>\n",
              "      <td>3</td>\n",
              "      <td>3</td>\n",
              "      <td>0.31</td>\n",
              "      <td>0.58</td>\n",
              "      <td>0.11</td>\n",
              "      <td>10</td>\n",
              "    </tr>\n",
              "    <tr>\n",
              "      <th>4</th>\n",
              "      <td>4</td>\n",
              "      <td>4</td>\n",
              "      <td>0.27</td>\n",
              "      <td>0.60</td>\n",
              "      <td>0.13</td>\n",
              "      <td>10</td>\n",
              "    </tr>\n",
              "  </tbody>\n",
              "</table>\n",
              "</div>\n",
              "    <div class=\"colab-df-buttons\">\n",
              "\n",
              "  <div class=\"colab-df-container\">\n",
              "    <button class=\"colab-df-convert\" onclick=\"convertToInteractive('df-885075d7-5be5-4f76-b8c9-9a73e02e832b')\"\n",
              "            title=\"Convert this dataframe to an interactive table.\"\n",
              "            style=\"display:none;\">\n",
              "\n",
              "  <svg xmlns=\"http://www.w3.org/2000/svg\" height=\"24px\" viewBox=\"0 -960 960 960\">\n",
              "    <path d=\"M120-120v-720h720v720H120Zm60-500h600v-160H180v160Zm220 220h160v-160H400v160Zm0 220h160v-160H400v160ZM180-400h160v-160H180v160Zm440 0h160v-160H620v160ZM180-180h160v-160H180v160Zm440 0h160v-160H620v160Z\"/>\n",
              "  </svg>\n",
              "    </button>\n",
              "\n",
              "  <style>\n",
              "    .colab-df-container {\n",
              "      display:flex;\n",
              "      gap: 12px;\n",
              "    }\n",
              "\n",
              "    .colab-df-convert {\n",
              "      background-color: #E8F0FE;\n",
              "      border: none;\n",
              "      border-radius: 50%;\n",
              "      cursor: pointer;\n",
              "      display: none;\n",
              "      fill: #1967D2;\n",
              "      height: 32px;\n",
              "      padding: 0 0 0 0;\n",
              "      width: 32px;\n",
              "    }\n",
              "\n",
              "    .colab-df-convert:hover {\n",
              "      background-color: #E2EBFA;\n",
              "      box-shadow: 0px 1px 2px rgba(60, 64, 67, 0.3), 0px 1px 3px 1px rgba(60, 64, 67, 0.15);\n",
              "      fill: #174EA6;\n",
              "    }\n",
              "\n",
              "    .colab-df-buttons div {\n",
              "      margin-bottom: 4px;\n",
              "    }\n",
              "\n",
              "    [theme=dark] .colab-df-convert {\n",
              "      background-color: #3B4455;\n",
              "      fill: #D2E3FC;\n",
              "    }\n",
              "\n",
              "    [theme=dark] .colab-df-convert:hover {\n",
              "      background-color: #434B5C;\n",
              "      box-shadow: 0px 1px 3px 1px rgba(0, 0, 0, 0.15);\n",
              "      filter: drop-shadow(0px 1px 2px rgba(0, 0, 0, 0.3));\n",
              "      fill: #FFFFFF;\n",
              "    }\n",
              "  </style>\n",
              "\n",
              "    <script>\n",
              "      const buttonEl =\n",
              "        document.querySelector('#df-885075d7-5be5-4f76-b8c9-9a73e02e832b button.colab-df-convert');\n",
              "      buttonEl.style.display =\n",
              "        google.colab.kernel.accessAllowed ? 'block' : 'none';\n",
              "\n",
              "      async function convertToInteractive(key) {\n",
              "        const element = document.querySelector('#df-885075d7-5be5-4f76-b8c9-9a73e02e832b');\n",
              "        const dataTable =\n",
              "          await google.colab.kernel.invokeFunction('convertToInteractive',\n",
              "                                                    [key], {});\n",
              "        if (!dataTable) return;\n",
              "\n",
              "        const docLinkHtml = 'Like what you see? Visit the ' +\n",
              "          '<a target=\"_blank\" href=https://colab.research.google.com/notebooks/data_table.ipynb>data table notebook</a>'\n",
              "          + ' to learn more about interactive tables.';\n",
              "        element.innerHTML = '';\n",
              "        dataTable['output_type'] = 'display_data';\n",
              "        await google.colab.output.renderOutput(dataTable, element);\n",
              "        const docLink = document.createElement('div');\n",
              "        docLink.innerHTML = docLinkHtml;\n",
              "        element.appendChild(docLink);\n",
              "      }\n",
              "    </script>\n",
              "  </div>\n",
              "\n",
              "\n",
              "<div id=\"df-b11edfea-c32e-4301-b44d-f9e634f36d34\">\n",
              "  <button class=\"colab-df-quickchart\" onclick=\"quickchart('df-b11edfea-c32e-4301-b44d-f9e634f36d34')\"\n",
              "            title=\"Suggest charts\"\n",
              "            style=\"display:none;\">\n",
              "\n",
              "<svg xmlns=\"http://www.w3.org/2000/svg\" height=\"24px\"viewBox=\"0 0 24 24\"\n",
              "     width=\"24px\">\n",
              "    <g>\n",
              "        <path d=\"M19 3H5c-1.1 0-2 .9-2 2v14c0 1.1.9 2 2 2h14c1.1 0 2-.9 2-2V5c0-1.1-.9-2-2-2zM9 17H7v-7h2v7zm4 0h-2V7h2v10zm4 0h-2v-4h2v4z\"/>\n",
              "    </g>\n",
              "</svg>\n",
              "  </button>\n",
              "\n",
              "<style>\n",
              "  .colab-df-quickchart {\n",
              "      --bg-color: #E8F0FE;\n",
              "      --fill-color: #1967D2;\n",
              "      --hover-bg-color: #E2EBFA;\n",
              "      --hover-fill-color: #174EA6;\n",
              "      --disabled-fill-color: #AAA;\n",
              "      --disabled-bg-color: #DDD;\n",
              "  }\n",
              "\n",
              "  [theme=dark] .colab-df-quickchart {\n",
              "      --bg-color: #3B4455;\n",
              "      --fill-color: #D2E3FC;\n",
              "      --hover-bg-color: #434B5C;\n",
              "      --hover-fill-color: #FFFFFF;\n",
              "      --disabled-bg-color: #3B4455;\n",
              "      --disabled-fill-color: #666;\n",
              "  }\n",
              "\n",
              "  .colab-df-quickchart {\n",
              "    background-color: var(--bg-color);\n",
              "    border: none;\n",
              "    border-radius: 50%;\n",
              "    cursor: pointer;\n",
              "    display: none;\n",
              "    fill: var(--fill-color);\n",
              "    height: 32px;\n",
              "    padding: 0;\n",
              "    width: 32px;\n",
              "  }\n",
              "\n",
              "  .colab-df-quickchart:hover {\n",
              "    background-color: var(--hover-bg-color);\n",
              "    box-shadow: 0 1px 2px rgba(60, 64, 67, 0.3), 0 1px 3px 1px rgba(60, 64, 67, 0.15);\n",
              "    fill: var(--button-hover-fill-color);\n",
              "  }\n",
              "\n",
              "  .colab-df-quickchart-complete:disabled,\n",
              "  .colab-df-quickchart-complete:disabled:hover {\n",
              "    background-color: var(--disabled-bg-color);\n",
              "    fill: var(--disabled-fill-color);\n",
              "    box-shadow: none;\n",
              "  }\n",
              "\n",
              "  .colab-df-spinner {\n",
              "    border: 2px solid var(--fill-color);\n",
              "    border-color: transparent;\n",
              "    border-bottom-color: var(--fill-color);\n",
              "    animation:\n",
              "      spin 1s steps(1) infinite;\n",
              "  }\n",
              "\n",
              "  @keyframes spin {\n",
              "    0% {\n",
              "      border-color: transparent;\n",
              "      border-bottom-color: var(--fill-color);\n",
              "      border-left-color: var(--fill-color);\n",
              "    }\n",
              "    20% {\n",
              "      border-color: transparent;\n",
              "      border-left-color: var(--fill-color);\n",
              "      border-top-color: var(--fill-color);\n",
              "    }\n",
              "    30% {\n",
              "      border-color: transparent;\n",
              "      border-left-color: var(--fill-color);\n",
              "      border-top-color: var(--fill-color);\n",
              "      border-right-color: var(--fill-color);\n",
              "    }\n",
              "    40% {\n",
              "      border-color: transparent;\n",
              "      border-right-color: var(--fill-color);\n",
              "      border-top-color: var(--fill-color);\n",
              "    }\n",
              "    60% {\n",
              "      border-color: transparent;\n",
              "      border-right-color: var(--fill-color);\n",
              "    }\n",
              "    80% {\n",
              "      border-color: transparent;\n",
              "      border-right-color: var(--fill-color);\n",
              "      border-bottom-color: var(--fill-color);\n",
              "    }\n",
              "    90% {\n",
              "      border-color: transparent;\n",
              "      border-bottom-color: var(--fill-color);\n",
              "    }\n",
              "  }\n",
              "</style>\n",
              "\n",
              "  <script>\n",
              "    async function quickchart(key) {\n",
              "      const quickchartButtonEl =\n",
              "        document.querySelector('#' + key + ' button');\n",
              "      quickchartButtonEl.disabled = true;  // To prevent multiple clicks.\n",
              "      quickchartButtonEl.classList.add('colab-df-spinner');\n",
              "      try {\n",
              "        const charts = await google.colab.kernel.invokeFunction(\n",
              "            'suggestCharts', [key], {});\n",
              "      } catch (error) {\n",
              "        console.error('Error during call to suggestCharts:', error);\n",
              "      }\n",
              "      quickchartButtonEl.classList.remove('colab-df-spinner');\n",
              "      quickchartButtonEl.classList.add('colab-df-quickchart-complete');\n",
              "    }\n",
              "    (() => {\n",
              "      let quickchartButtonEl =\n",
              "        document.querySelector('#df-b11edfea-c32e-4301-b44d-f9e634f36d34 button');\n",
              "      quickchartButtonEl.style.display =\n",
              "        google.colab.kernel.accessAllowed ? 'block' : 'none';\n",
              "    })();\n",
              "  </script>\n",
              "</div>\n",
              "\n",
              "    </div>\n",
              "  </div>\n"
            ],
            "application/vnd.google.colaboratory.intrinsic+json": {
              "type": "dataframe",
              "variable_name": "combined_df"
            }
          },
          "metadata": {},
          "execution_count": 10
        }
      ]
    },
    {
      "cell_type": "code",
      "source": [
        "df_data = pd.read_csv('/content/results_k_100000.csv')"
      ],
      "metadata": {
        "id": "btwGPSUNUtik"
      },
      "execution_count": 15,
      "outputs": []
    },
    {
      "cell_type": "code",
      "source": [
        "df_data"
      ],
      "metadata": {
        "colab": {
          "base_uri": "https://localhost:8080/",
          "height": 424
        },
        "id": "5v6DrgM3nctR",
        "outputId": "a6726123-2df6-4135-a85b-e88fe62e3916"
      },
      "execution_count": 16,
      "outputs": [
        {
          "output_type": "execute_result",
          "data": {
            "text/plain": [
              "       Unnamed: 0  iteration  success_transmition  collision_transmition  \\\n",
              "0               0          0                 0.20                   0.65   \n",
              "1               1          1                 0.23                   0.60   \n",
              "2               2          2                 0.22                   0.61   \n",
              "3               3          3                 0.26                   0.59   \n",
              "4               4          4                 0.32                   0.56   \n",
              "...           ...        ...                  ...                    ...   \n",
              "99995       99995      99995                 0.21                   0.61   \n",
              "99996       99996      99996                 0.32                   0.60   \n",
              "99997       99997      99997                 0.23                   0.66   \n",
              "99998       99998      99998                 0.29                   0.56   \n",
              "99999       99999      99999                 0.24                   0.62   \n",
              "\n",
              "       preambles_not_selected  \n",
              "0                        0.15  \n",
              "1                        0.17  \n",
              "2                        0.17  \n",
              "3                        0.15  \n",
              "4                        0.12  \n",
              "...                       ...  \n",
              "99995                    0.18  \n",
              "99996                    0.08  \n",
              "99997                    0.11  \n",
              "99998                    0.15  \n",
              "99999                    0.14  \n",
              "\n",
              "[100000 rows x 5 columns]"
            ],
            "text/html": [
              "\n",
              "  <div id=\"df-b44fefbf-a8dd-4e74-aec0-069a76e59024\" class=\"colab-df-container\">\n",
              "    <div>\n",
              "<style scoped>\n",
              "    .dataframe tbody tr th:only-of-type {\n",
              "        vertical-align: middle;\n",
              "    }\n",
              "\n",
              "    .dataframe tbody tr th {\n",
              "        vertical-align: top;\n",
              "    }\n",
              "\n",
              "    .dataframe thead th {\n",
              "        text-align: right;\n",
              "    }\n",
              "</style>\n",
              "<table border=\"1\" class=\"dataframe\">\n",
              "  <thead>\n",
              "    <tr style=\"text-align: right;\">\n",
              "      <th></th>\n",
              "      <th>Unnamed: 0</th>\n",
              "      <th>iteration</th>\n",
              "      <th>success_transmition</th>\n",
              "      <th>collision_transmition</th>\n",
              "      <th>preambles_not_selected</th>\n",
              "    </tr>\n",
              "  </thead>\n",
              "  <tbody>\n",
              "    <tr>\n",
              "      <th>0</th>\n",
              "      <td>0</td>\n",
              "      <td>0</td>\n",
              "      <td>0.20</td>\n",
              "      <td>0.65</td>\n",
              "      <td>0.15</td>\n",
              "    </tr>\n",
              "    <tr>\n",
              "      <th>1</th>\n",
              "      <td>1</td>\n",
              "      <td>1</td>\n",
              "      <td>0.23</td>\n",
              "      <td>0.60</td>\n",
              "      <td>0.17</td>\n",
              "    </tr>\n",
              "    <tr>\n",
              "      <th>2</th>\n",
              "      <td>2</td>\n",
              "      <td>2</td>\n",
              "      <td>0.22</td>\n",
              "      <td>0.61</td>\n",
              "      <td>0.17</td>\n",
              "    </tr>\n",
              "    <tr>\n",
              "      <th>3</th>\n",
              "      <td>3</td>\n",
              "      <td>3</td>\n",
              "      <td>0.26</td>\n",
              "      <td>0.59</td>\n",
              "      <td>0.15</td>\n",
              "    </tr>\n",
              "    <tr>\n",
              "      <th>4</th>\n",
              "      <td>4</td>\n",
              "      <td>4</td>\n",
              "      <td>0.32</td>\n",
              "      <td>0.56</td>\n",
              "      <td>0.12</td>\n",
              "    </tr>\n",
              "    <tr>\n",
              "      <th>...</th>\n",
              "      <td>...</td>\n",
              "      <td>...</td>\n",
              "      <td>...</td>\n",
              "      <td>...</td>\n",
              "      <td>...</td>\n",
              "    </tr>\n",
              "    <tr>\n",
              "      <th>99995</th>\n",
              "      <td>99995</td>\n",
              "      <td>99995</td>\n",
              "      <td>0.21</td>\n",
              "      <td>0.61</td>\n",
              "      <td>0.18</td>\n",
              "    </tr>\n",
              "    <tr>\n",
              "      <th>99996</th>\n",
              "      <td>99996</td>\n",
              "      <td>99996</td>\n",
              "      <td>0.32</td>\n",
              "      <td>0.60</td>\n",
              "      <td>0.08</td>\n",
              "    </tr>\n",
              "    <tr>\n",
              "      <th>99997</th>\n",
              "      <td>99997</td>\n",
              "      <td>99997</td>\n",
              "      <td>0.23</td>\n",
              "      <td>0.66</td>\n",
              "      <td>0.11</td>\n",
              "    </tr>\n",
              "    <tr>\n",
              "      <th>99998</th>\n",
              "      <td>99998</td>\n",
              "      <td>99998</td>\n",
              "      <td>0.29</td>\n",
              "      <td>0.56</td>\n",
              "      <td>0.15</td>\n",
              "    </tr>\n",
              "    <tr>\n",
              "      <th>99999</th>\n",
              "      <td>99999</td>\n",
              "      <td>99999</td>\n",
              "      <td>0.24</td>\n",
              "      <td>0.62</td>\n",
              "      <td>0.14</td>\n",
              "    </tr>\n",
              "  </tbody>\n",
              "</table>\n",
              "<p>100000 rows × 5 columns</p>\n",
              "</div>\n",
              "    <div class=\"colab-df-buttons\">\n",
              "\n",
              "  <div class=\"colab-df-container\">\n",
              "    <button class=\"colab-df-convert\" onclick=\"convertToInteractive('df-b44fefbf-a8dd-4e74-aec0-069a76e59024')\"\n",
              "            title=\"Convert this dataframe to an interactive table.\"\n",
              "            style=\"display:none;\">\n",
              "\n",
              "  <svg xmlns=\"http://www.w3.org/2000/svg\" height=\"24px\" viewBox=\"0 -960 960 960\">\n",
              "    <path d=\"M120-120v-720h720v720H120Zm60-500h600v-160H180v160Zm220 220h160v-160H400v160Zm0 220h160v-160H400v160ZM180-400h160v-160H180v160Zm440 0h160v-160H620v160ZM180-180h160v-160H180v160Zm440 0h160v-160H620v160Z\"/>\n",
              "  </svg>\n",
              "    </button>\n",
              "\n",
              "  <style>\n",
              "    .colab-df-container {\n",
              "      display:flex;\n",
              "      gap: 12px;\n",
              "    }\n",
              "\n",
              "    .colab-df-convert {\n",
              "      background-color: #E8F0FE;\n",
              "      border: none;\n",
              "      border-radius: 50%;\n",
              "      cursor: pointer;\n",
              "      display: none;\n",
              "      fill: #1967D2;\n",
              "      height: 32px;\n",
              "      padding: 0 0 0 0;\n",
              "      width: 32px;\n",
              "    }\n",
              "\n",
              "    .colab-df-convert:hover {\n",
              "      background-color: #E2EBFA;\n",
              "      box-shadow: 0px 1px 2px rgba(60, 64, 67, 0.3), 0px 1px 3px 1px rgba(60, 64, 67, 0.15);\n",
              "      fill: #174EA6;\n",
              "    }\n",
              "\n",
              "    .colab-df-buttons div {\n",
              "      margin-bottom: 4px;\n",
              "    }\n",
              "\n",
              "    [theme=dark] .colab-df-convert {\n",
              "      background-color: #3B4455;\n",
              "      fill: #D2E3FC;\n",
              "    }\n",
              "\n",
              "    [theme=dark] .colab-df-convert:hover {\n",
              "      background-color: #434B5C;\n",
              "      box-shadow: 0px 1px 3px 1px rgba(0, 0, 0, 0.15);\n",
              "      filter: drop-shadow(0px 1px 2px rgba(0, 0, 0, 0.3));\n",
              "      fill: #FFFFFF;\n",
              "    }\n",
              "  </style>\n",
              "\n",
              "    <script>\n",
              "      const buttonEl =\n",
              "        document.querySelector('#df-b44fefbf-a8dd-4e74-aec0-069a76e59024 button.colab-df-convert');\n",
              "      buttonEl.style.display =\n",
              "        google.colab.kernel.accessAllowed ? 'block' : 'none';\n",
              "\n",
              "      async function convertToInteractive(key) {\n",
              "        const element = document.querySelector('#df-b44fefbf-a8dd-4e74-aec0-069a76e59024');\n",
              "        const dataTable =\n",
              "          await google.colab.kernel.invokeFunction('convertToInteractive',\n",
              "                                                    [key], {});\n",
              "        if (!dataTable) return;\n",
              "\n",
              "        const docLinkHtml = 'Like what you see? Visit the ' +\n",
              "          '<a target=\"_blank\" href=https://colab.research.google.com/notebooks/data_table.ipynb>data table notebook</a>'\n",
              "          + ' to learn more about interactive tables.';\n",
              "        element.innerHTML = '';\n",
              "        dataTable['output_type'] = 'display_data';\n",
              "        await google.colab.output.renderOutput(dataTable, element);\n",
              "        const docLink = document.createElement('div');\n",
              "        docLink.innerHTML = docLinkHtml;\n",
              "        element.appendChild(docLink);\n",
              "      }\n",
              "    </script>\n",
              "  </div>\n",
              "\n",
              "\n",
              "<div id=\"df-b1d6887f-c866-4679-b9e4-ee892fb35884\">\n",
              "  <button class=\"colab-df-quickchart\" onclick=\"quickchart('df-b1d6887f-c866-4679-b9e4-ee892fb35884')\"\n",
              "            title=\"Suggest charts\"\n",
              "            style=\"display:none;\">\n",
              "\n",
              "<svg xmlns=\"http://www.w3.org/2000/svg\" height=\"24px\"viewBox=\"0 0 24 24\"\n",
              "     width=\"24px\">\n",
              "    <g>\n",
              "        <path d=\"M19 3H5c-1.1 0-2 .9-2 2v14c0 1.1.9 2 2 2h14c1.1 0 2-.9 2-2V5c0-1.1-.9-2-2-2zM9 17H7v-7h2v7zm4 0h-2V7h2v10zm4 0h-2v-4h2v4z\"/>\n",
              "    </g>\n",
              "</svg>\n",
              "  </button>\n",
              "\n",
              "<style>\n",
              "  .colab-df-quickchart {\n",
              "      --bg-color: #E8F0FE;\n",
              "      --fill-color: #1967D2;\n",
              "      --hover-bg-color: #E2EBFA;\n",
              "      --hover-fill-color: #174EA6;\n",
              "      --disabled-fill-color: #AAA;\n",
              "      --disabled-bg-color: #DDD;\n",
              "  }\n",
              "\n",
              "  [theme=dark] .colab-df-quickchart {\n",
              "      --bg-color: #3B4455;\n",
              "      --fill-color: #D2E3FC;\n",
              "      --hover-bg-color: #434B5C;\n",
              "      --hover-fill-color: #FFFFFF;\n",
              "      --disabled-bg-color: #3B4455;\n",
              "      --disabled-fill-color: #666;\n",
              "  }\n",
              "\n",
              "  .colab-df-quickchart {\n",
              "    background-color: var(--bg-color);\n",
              "    border: none;\n",
              "    border-radius: 50%;\n",
              "    cursor: pointer;\n",
              "    display: none;\n",
              "    fill: var(--fill-color);\n",
              "    height: 32px;\n",
              "    padding: 0;\n",
              "    width: 32px;\n",
              "  }\n",
              "\n",
              "  .colab-df-quickchart:hover {\n",
              "    background-color: var(--hover-bg-color);\n",
              "    box-shadow: 0 1px 2px rgba(60, 64, 67, 0.3), 0 1px 3px 1px rgba(60, 64, 67, 0.15);\n",
              "    fill: var(--button-hover-fill-color);\n",
              "  }\n",
              "\n",
              "  .colab-df-quickchart-complete:disabled,\n",
              "  .colab-df-quickchart-complete:disabled:hover {\n",
              "    background-color: var(--disabled-bg-color);\n",
              "    fill: var(--disabled-fill-color);\n",
              "    box-shadow: none;\n",
              "  }\n",
              "\n",
              "  .colab-df-spinner {\n",
              "    border: 2px solid var(--fill-color);\n",
              "    border-color: transparent;\n",
              "    border-bottom-color: var(--fill-color);\n",
              "    animation:\n",
              "      spin 1s steps(1) infinite;\n",
              "  }\n",
              "\n",
              "  @keyframes spin {\n",
              "    0% {\n",
              "      border-color: transparent;\n",
              "      border-bottom-color: var(--fill-color);\n",
              "      border-left-color: var(--fill-color);\n",
              "    }\n",
              "    20% {\n",
              "      border-color: transparent;\n",
              "      border-left-color: var(--fill-color);\n",
              "      border-top-color: var(--fill-color);\n",
              "    }\n",
              "    30% {\n",
              "      border-color: transparent;\n",
              "      border-left-color: var(--fill-color);\n",
              "      border-top-color: var(--fill-color);\n",
              "      border-right-color: var(--fill-color);\n",
              "    }\n",
              "    40% {\n",
              "      border-color: transparent;\n",
              "      border-right-color: var(--fill-color);\n",
              "      border-top-color: var(--fill-color);\n",
              "    }\n",
              "    60% {\n",
              "      border-color: transparent;\n",
              "      border-right-color: var(--fill-color);\n",
              "    }\n",
              "    80% {\n",
              "      border-color: transparent;\n",
              "      border-right-color: var(--fill-color);\n",
              "      border-bottom-color: var(--fill-color);\n",
              "    }\n",
              "    90% {\n",
              "      border-color: transparent;\n",
              "      border-bottom-color: var(--fill-color);\n",
              "    }\n",
              "  }\n",
              "</style>\n",
              "\n",
              "  <script>\n",
              "    async function quickchart(key) {\n",
              "      const quickchartButtonEl =\n",
              "        document.querySelector('#' + key + ' button');\n",
              "      quickchartButtonEl.disabled = true;  // To prevent multiple clicks.\n",
              "      quickchartButtonEl.classList.add('colab-df-spinner');\n",
              "      try {\n",
              "        const charts = await google.colab.kernel.invokeFunction(\n",
              "            'suggestCharts', [key], {});\n",
              "      } catch (error) {\n",
              "        console.error('Error during call to suggestCharts:', error);\n",
              "      }\n",
              "      quickchartButtonEl.classList.remove('colab-df-spinner');\n",
              "      quickchartButtonEl.classList.add('colab-df-quickchart-complete');\n",
              "    }\n",
              "    (() => {\n",
              "      let quickchartButtonEl =\n",
              "        document.querySelector('#df-b1d6887f-c866-4679-b9e4-ee892fb35884 button');\n",
              "      quickchartButtonEl.style.display =\n",
              "        google.colab.kernel.accessAllowed ? 'block' : 'none';\n",
              "    })();\n",
              "  </script>\n",
              "</div>\n",
              "\n",
              "  <div id=\"id_8d43ed5b-b884-41c5-9247-a21db5672fad\">\n",
              "    <style>\n",
              "      .colab-df-generate {\n",
              "        background-color: #E8F0FE;\n",
              "        border: none;\n",
              "        border-radius: 50%;\n",
              "        cursor: pointer;\n",
              "        display: none;\n",
              "        fill: #1967D2;\n",
              "        height: 32px;\n",
              "        padding: 0 0 0 0;\n",
              "        width: 32px;\n",
              "      }\n",
              "\n",
              "      .colab-df-generate:hover {\n",
              "        background-color: #E2EBFA;\n",
              "        box-shadow: 0px 1px 2px rgba(60, 64, 67, 0.3), 0px 1px 3px 1px rgba(60, 64, 67, 0.15);\n",
              "        fill: #174EA6;\n",
              "      }\n",
              "\n",
              "      [theme=dark] .colab-df-generate {\n",
              "        background-color: #3B4455;\n",
              "        fill: #D2E3FC;\n",
              "      }\n",
              "\n",
              "      [theme=dark] .colab-df-generate:hover {\n",
              "        background-color: #434B5C;\n",
              "        box-shadow: 0px 1px 3px 1px rgba(0, 0, 0, 0.15);\n",
              "        filter: drop-shadow(0px 1px 2px rgba(0, 0, 0, 0.3));\n",
              "        fill: #FFFFFF;\n",
              "      }\n",
              "    </style>\n",
              "    <button class=\"colab-df-generate\" onclick=\"generateWithVariable('df_data')\"\n",
              "            title=\"Generate code using this dataframe.\"\n",
              "            style=\"display:none;\">\n",
              "\n",
              "  <svg xmlns=\"http://www.w3.org/2000/svg\" height=\"24px\"viewBox=\"0 0 24 24\"\n",
              "       width=\"24px\">\n",
              "    <path d=\"M7,19H8.4L18.45,9,17,7.55,7,17.6ZM5,21V16.75L18.45,3.32a2,2,0,0,1,2.83,0l1.4,1.43a1.91,1.91,0,0,1,.58,1.4,1.91,1.91,0,0,1-.58,1.4L9.25,21ZM18.45,9,17,7.55Zm-12,3A5.31,5.31,0,0,0,4.9,8.1,5.31,5.31,0,0,0,1,6.5,5.31,5.31,0,0,0,4.9,4.9,5.31,5.31,0,0,0,6.5,1,5.31,5.31,0,0,0,8.1,4.9,5.31,5.31,0,0,0,12,6.5,5.46,5.46,0,0,0,6.5,12Z\"/>\n",
              "  </svg>\n",
              "    </button>\n",
              "    <script>\n",
              "      (() => {\n",
              "      const buttonEl =\n",
              "        document.querySelector('#id_8d43ed5b-b884-41c5-9247-a21db5672fad button.colab-df-generate');\n",
              "      buttonEl.style.display =\n",
              "        google.colab.kernel.accessAllowed ? 'block' : 'none';\n",
              "\n",
              "      buttonEl.onclick = () => {\n",
              "        google.colab.notebook.generateWithVariable('df_data');\n",
              "      }\n",
              "      })();\n",
              "    </script>\n",
              "  </div>\n",
              "\n",
              "    </div>\n",
              "  </div>\n"
            ],
            "application/vnd.google.colaboratory.intrinsic+json": {
              "type": "dataframe",
              "variable_name": "df_data",
              "summary": "{\n  \"name\": \"df_data\",\n  \"rows\": 100000,\n  \"fields\": [\n    {\n      \"column\": \"Unnamed: 0\",\n      \"properties\": {\n        \"dtype\": \"number\",\n        \"std\": 28867,\n        \"min\": 0,\n        \"max\": 99999,\n        \"num_unique_values\": 100000,\n        \"samples\": [\n          75721,\n          80184,\n          19864\n        ],\n        \"semantic_type\": \"\",\n        \"description\": \"\"\n      }\n    },\n    {\n      \"column\": \"iteration\",\n      \"properties\": {\n        \"dtype\": \"number\",\n        \"std\": 28867,\n        \"min\": 0,\n        \"max\": 99999,\n        \"num_unique_values\": 100000,\n        \"samples\": [\n          75721,\n          80184,\n          19864\n        ],\n        \"semantic_type\": \"\",\n        \"description\": \"\"\n      }\n    },\n    {\n      \"column\": \"success_transmition\",\n      \"properties\": {\n        \"dtype\": \"number\",\n        \"std\": 0.04017125461641663,\n        \"min\": 0.1,\n        \"max\": 0.47,\n        \"num_unique_values\": 36,\n        \"samples\": [\n          0.11,\n          0.3,\n          0.4\n        ],\n        \"semantic_type\": \"\",\n        \"description\": \"\"\n      }\n    },\n    {\n      \"column\": \"collision_transmition\",\n      \"properties\": {\n        \"dtype\": \"number\",\n        \"std\": 0.030740965685217385,\n        \"min\": 0.46,\n        \"max\": 0.72,\n        \"num_unique_values\": 27,\n        \"samples\": [\n          0.64,\n          0.69,\n          0.54\n        ],\n        \"semantic_type\": \"\",\n        \"description\": \"\"\n      }\n    },\n    {\n      \"column\": \"preambles_not_selected\",\n      \"properties\": {\n        \"dtype\": \"number\",\n        \"std\": 0.028313816786724646,\n        \"min\": 0.02,\n        \"max\": 0.26,\n        \"num_unique_values\": 25,\n        \"samples\": [\n          0.19,\n          0.06,\n          0.15\n        ],\n        \"semantic_type\": \"\",\n        \"description\": \"\"\n      }\n    }\n  ]\n}"
            }
          },
          "metadata": {},
          "execution_count": 16
        }
      ]
    },
    {
      "cell_type": "markdown",
      "source": [
        "K = 10"
      ],
      "metadata": {
        "id": "PUpr8v1Kax3z"
      }
    },
    {
      "cell_type": "code",
      "source": [
        "k= 100000"
      ],
      "metadata": {
        "id": "q7nhZgNVeMDj"
      },
      "execution_count": 31,
      "outputs": []
    },
    {
      "cell_type": "code",
      "source": [
        "df_k_10 = combined_df[combined_df['iterations']==k].reset_index()\n",
        "df_k_10.head()"
      ],
      "metadata": {
        "colab": {
          "base_uri": "https://localhost:8080/",
          "height": 206
        },
        "id": "YKh5recCa0HI",
        "outputId": "549ced98-c205-486f-8364-8867cecb4ba8"
      },
      "execution_count": 32,
      "outputs": [
        {
          "output_type": "execute_result",
          "data": {
            "text/plain": [
              "   index  Unnamed: 0  iteration  success_transmition  collision_transmition  \\\n",
              "0  11110           0          0                 0.20                   0.65   \n",
              "1  11111           1          1                 0.23                   0.60   \n",
              "2  11112           2          2                 0.22                   0.61   \n",
              "3  11113           3          3                 0.26                   0.59   \n",
              "4  11114           4          4                 0.32                   0.56   \n",
              "\n",
              "   preambles_not_selected  iterations  \n",
              "0                    0.15      100000  \n",
              "1                    0.17      100000  \n",
              "2                    0.17      100000  \n",
              "3                    0.15      100000  \n",
              "4                    0.12      100000  "
            ],
            "text/html": [
              "\n",
              "  <div id=\"df-d9e84222-b9ae-4728-b73d-d11fbdfdb643\" class=\"colab-df-container\">\n",
              "    <div>\n",
              "<style scoped>\n",
              "    .dataframe tbody tr th:only-of-type {\n",
              "        vertical-align: middle;\n",
              "    }\n",
              "\n",
              "    .dataframe tbody tr th {\n",
              "        vertical-align: top;\n",
              "    }\n",
              "\n",
              "    .dataframe thead th {\n",
              "        text-align: right;\n",
              "    }\n",
              "</style>\n",
              "<table border=\"1\" class=\"dataframe\">\n",
              "  <thead>\n",
              "    <tr style=\"text-align: right;\">\n",
              "      <th></th>\n",
              "      <th>index</th>\n",
              "      <th>Unnamed: 0</th>\n",
              "      <th>iteration</th>\n",
              "      <th>success_transmition</th>\n",
              "      <th>collision_transmition</th>\n",
              "      <th>preambles_not_selected</th>\n",
              "      <th>iterations</th>\n",
              "    </tr>\n",
              "  </thead>\n",
              "  <tbody>\n",
              "    <tr>\n",
              "      <th>0</th>\n",
              "      <td>11110</td>\n",
              "      <td>0</td>\n",
              "      <td>0</td>\n",
              "      <td>0.20</td>\n",
              "      <td>0.65</td>\n",
              "      <td>0.15</td>\n",
              "      <td>100000</td>\n",
              "    </tr>\n",
              "    <tr>\n",
              "      <th>1</th>\n",
              "      <td>11111</td>\n",
              "      <td>1</td>\n",
              "      <td>1</td>\n",
              "      <td>0.23</td>\n",
              "      <td>0.60</td>\n",
              "      <td>0.17</td>\n",
              "      <td>100000</td>\n",
              "    </tr>\n",
              "    <tr>\n",
              "      <th>2</th>\n",
              "      <td>11112</td>\n",
              "      <td>2</td>\n",
              "      <td>2</td>\n",
              "      <td>0.22</td>\n",
              "      <td>0.61</td>\n",
              "      <td>0.17</td>\n",
              "      <td>100000</td>\n",
              "    </tr>\n",
              "    <tr>\n",
              "      <th>3</th>\n",
              "      <td>11113</td>\n",
              "      <td>3</td>\n",
              "      <td>3</td>\n",
              "      <td>0.26</td>\n",
              "      <td>0.59</td>\n",
              "      <td>0.15</td>\n",
              "      <td>100000</td>\n",
              "    </tr>\n",
              "    <tr>\n",
              "      <th>4</th>\n",
              "      <td>11114</td>\n",
              "      <td>4</td>\n",
              "      <td>4</td>\n",
              "      <td>0.32</td>\n",
              "      <td>0.56</td>\n",
              "      <td>0.12</td>\n",
              "      <td>100000</td>\n",
              "    </tr>\n",
              "  </tbody>\n",
              "</table>\n",
              "</div>\n",
              "    <div class=\"colab-df-buttons\">\n",
              "\n",
              "  <div class=\"colab-df-container\">\n",
              "    <button class=\"colab-df-convert\" onclick=\"convertToInteractive('df-d9e84222-b9ae-4728-b73d-d11fbdfdb643')\"\n",
              "            title=\"Convert this dataframe to an interactive table.\"\n",
              "            style=\"display:none;\">\n",
              "\n",
              "  <svg xmlns=\"http://www.w3.org/2000/svg\" height=\"24px\" viewBox=\"0 -960 960 960\">\n",
              "    <path d=\"M120-120v-720h720v720H120Zm60-500h600v-160H180v160Zm220 220h160v-160H400v160Zm0 220h160v-160H400v160ZM180-400h160v-160H180v160Zm440 0h160v-160H620v160ZM180-180h160v-160H180v160Zm440 0h160v-160H620v160Z\"/>\n",
              "  </svg>\n",
              "    </button>\n",
              "\n",
              "  <style>\n",
              "    .colab-df-container {\n",
              "      display:flex;\n",
              "      gap: 12px;\n",
              "    }\n",
              "\n",
              "    .colab-df-convert {\n",
              "      background-color: #E8F0FE;\n",
              "      border: none;\n",
              "      border-radius: 50%;\n",
              "      cursor: pointer;\n",
              "      display: none;\n",
              "      fill: #1967D2;\n",
              "      height: 32px;\n",
              "      padding: 0 0 0 0;\n",
              "      width: 32px;\n",
              "    }\n",
              "\n",
              "    .colab-df-convert:hover {\n",
              "      background-color: #E2EBFA;\n",
              "      box-shadow: 0px 1px 2px rgba(60, 64, 67, 0.3), 0px 1px 3px 1px rgba(60, 64, 67, 0.15);\n",
              "      fill: #174EA6;\n",
              "    }\n",
              "\n",
              "    .colab-df-buttons div {\n",
              "      margin-bottom: 4px;\n",
              "    }\n",
              "\n",
              "    [theme=dark] .colab-df-convert {\n",
              "      background-color: #3B4455;\n",
              "      fill: #D2E3FC;\n",
              "    }\n",
              "\n",
              "    [theme=dark] .colab-df-convert:hover {\n",
              "      background-color: #434B5C;\n",
              "      box-shadow: 0px 1px 3px 1px rgba(0, 0, 0, 0.15);\n",
              "      filter: drop-shadow(0px 1px 2px rgba(0, 0, 0, 0.3));\n",
              "      fill: #FFFFFF;\n",
              "    }\n",
              "  </style>\n",
              "\n",
              "    <script>\n",
              "      const buttonEl =\n",
              "        document.querySelector('#df-d9e84222-b9ae-4728-b73d-d11fbdfdb643 button.colab-df-convert');\n",
              "      buttonEl.style.display =\n",
              "        google.colab.kernel.accessAllowed ? 'block' : 'none';\n",
              "\n",
              "      async function convertToInteractive(key) {\n",
              "        const element = document.querySelector('#df-d9e84222-b9ae-4728-b73d-d11fbdfdb643');\n",
              "        const dataTable =\n",
              "          await google.colab.kernel.invokeFunction('convertToInteractive',\n",
              "                                                    [key], {});\n",
              "        if (!dataTable) return;\n",
              "\n",
              "        const docLinkHtml = 'Like what you see? Visit the ' +\n",
              "          '<a target=\"_blank\" href=https://colab.research.google.com/notebooks/data_table.ipynb>data table notebook</a>'\n",
              "          + ' to learn more about interactive tables.';\n",
              "        element.innerHTML = '';\n",
              "        dataTable['output_type'] = 'display_data';\n",
              "        await google.colab.output.renderOutput(dataTable, element);\n",
              "        const docLink = document.createElement('div');\n",
              "        docLink.innerHTML = docLinkHtml;\n",
              "        element.appendChild(docLink);\n",
              "      }\n",
              "    </script>\n",
              "  </div>\n",
              "\n",
              "\n",
              "<div id=\"df-905d8d92-5ef6-4f36-abee-1a8aa50bd9b9\">\n",
              "  <button class=\"colab-df-quickchart\" onclick=\"quickchart('df-905d8d92-5ef6-4f36-abee-1a8aa50bd9b9')\"\n",
              "            title=\"Suggest charts\"\n",
              "            style=\"display:none;\">\n",
              "\n",
              "<svg xmlns=\"http://www.w3.org/2000/svg\" height=\"24px\"viewBox=\"0 0 24 24\"\n",
              "     width=\"24px\">\n",
              "    <g>\n",
              "        <path d=\"M19 3H5c-1.1 0-2 .9-2 2v14c0 1.1.9 2 2 2h14c1.1 0 2-.9 2-2V5c0-1.1-.9-2-2-2zM9 17H7v-7h2v7zm4 0h-2V7h2v10zm4 0h-2v-4h2v4z\"/>\n",
              "    </g>\n",
              "</svg>\n",
              "  </button>\n",
              "\n",
              "<style>\n",
              "  .colab-df-quickchart {\n",
              "      --bg-color: #E8F0FE;\n",
              "      --fill-color: #1967D2;\n",
              "      --hover-bg-color: #E2EBFA;\n",
              "      --hover-fill-color: #174EA6;\n",
              "      --disabled-fill-color: #AAA;\n",
              "      --disabled-bg-color: #DDD;\n",
              "  }\n",
              "\n",
              "  [theme=dark] .colab-df-quickchart {\n",
              "      --bg-color: #3B4455;\n",
              "      --fill-color: #D2E3FC;\n",
              "      --hover-bg-color: #434B5C;\n",
              "      --hover-fill-color: #FFFFFF;\n",
              "      --disabled-bg-color: #3B4455;\n",
              "      --disabled-fill-color: #666;\n",
              "  }\n",
              "\n",
              "  .colab-df-quickchart {\n",
              "    background-color: var(--bg-color);\n",
              "    border: none;\n",
              "    border-radius: 50%;\n",
              "    cursor: pointer;\n",
              "    display: none;\n",
              "    fill: var(--fill-color);\n",
              "    height: 32px;\n",
              "    padding: 0;\n",
              "    width: 32px;\n",
              "  }\n",
              "\n",
              "  .colab-df-quickchart:hover {\n",
              "    background-color: var(--hover-bg-color);\n",
              "    box-shadow: 0 1px 2px rgba(60, 64, 67, 0.3), 0 1px 3px 1px rgba(60, 64, 67, 0.15);\n",
              "    fill: var(--button-hover-fill-color);\n",
              "  }\n",
              "\n",
              "  .colab-df-quickchart-complete:disabled,\n",
              "  .colab-df-quickchart-complete:disabled:hover {\n",
              "    background-color: var(--disabled-bg-color);\n",
              "    fill: var(--disabled-fill-color);\n",
              "    box-shadow: none;\n",
              "  }\n",
              "\n",
              "  .colab-df-spinner {\n",
              "    border: 2px solid var(--fill-color);\n",
              "    border-color: transparent;\n",
              "    border-bottom-color: var(--fill-color);\n",
              "    animation:\n",
              "      spin 1s steps(1) infinite;\n",
              "  }\n",
              "\n",
              "  @keyframes spin {\n",
              "    0% {\n",
              "      border-color: transparent;\n",
              "      border-bottom-color: var(--fill-color);\n",
              "      border-left-color: var(--fill-color);\n",
              "    }\n",
              "    20% {\n",
              "      border-color: transparent;\n",
              "      border-left-color: var(--fill-color);\n",
              "      border-top-color: var(--fill-color);\n",
              "    }\n",
              "    30% {\n",
              "      border-color: transparent;\n",
              "      border-left-color: var(--fill-color);\n",
              "      border-top-color: var(--fill-color);\n",
              "      border-right-color: var(--fill-color);\n",
              "    }\n",
              "    40% {\n",
              "      border-color: transparent;\n",
              "      border-right-color: var(--fill-color);\n",
              "      border-top-color: var(--fill-color);\n",
              "    }\n",
              "    60% {\n",
              "      border-color: transparent;\n",
              "      border-right-color: var(--fill-color);\n",
              "    }\n",
              "    80% {\n",
              "      border-color: transparent;\n",
              "      border-right-color: var(--fill-color);\n",
              "      border-bottom-color: var(--fill-color);\n",
              "    }\n",
              "    90% {\n",
              "      border-color: transparent;\n",
              "      border-bottom-color: var(--fill-color);\n",
              "    }\n",
              "  }\n",
              "</style>\n",
              "\n",
              "  <script>\n",
              "    async function quickchart(key) {\n",
              "      const quickchartButtonEl =\n",
              "        document.querySelector('#' + key + ' button');\n",
              "      quickchartButtonEl.disabled = true;  // To prevent multiple clicks.\n",
              "      quickchartButtonEl.classList.add('colab-df-spinner');\n",
              "      try {\n",
              "        const charts = await google.colab.kernel.invokeFunction(\n",
              "            'suggestCharts', [key], {});\n",
              "      } catch (error) {\n",
              "        console.error('Error during call to suggestCharts:', error);\n",
              "      }\n",
              "      quickchartButtonEl.classList.remove('colab-df-spinner');\n",
              "      quickchartButtonEl.classList.add('colab-df-quickchart-complete');\n",
              "    }\n",
              "    (() => {\n",
              "      let quickchartButtonEl =\n",
              "        document.querySelector('#df-905d8d92-5ef6-4f36-abee-1a8aa50bd9b9 button');\n",
              "      quickchartButtonEl.style.display =\n",
              "        google.colab.kernel.accessAllowed ? 'block' : 'none';\n",
              "    })();\n",
              "  </script>\n",
              "</div>\n",
              "\n",
              "    </div>\n",
              "  </div>\n"
            ],
            "application/vnd.google.colaboratory.intrinsic+json": {
              "type": "dataframe",
              "variable_name": "df_k_10",
              "summary": "{\n  \"name\": \"df_k_10\",\n  \"rows\": 100000,\n  \"fields\": [\n    {\n      \"column\": \"index\",\n      \"properties\": {\n        \"dtype\": \"number\",\n        \"std\": 28867,\n        \"min\": 11110,\n        \"max\": 111109,\n        \"num_unique_values\": 100000,\n        \"samples\": [\n          86831,\n          91294,\n          30974\n        ],\n        \"semantic_type\": \"\",\n        \"description\": \"\"\n      }\n    },\n    {\n      \"column\": \"Unnamed: 0\",\n      \"properties\": {\n        \"dtype\": \"number\",\n        \"std\": 28867,\n        \"min\": 0,\n        \"max\": 99999,\n        \"num_unique_values\": 100000,\n        \"samples\": [\n          75721,\n          80184,\n          19864\n        ],\n        \"semantic_type\": \"\",\n        \"description\": \"\"\n      }\n    },\n    {\n      \"column\": \"iteration\",\n      \"properties\": {\n        \"dtype\": \"number\",\n        \"std\": 28867,\n        \"min\": 0,\n        \"max\": 99999,\n        \"num_unique_values\": 100000,\n        \"samples\": [\n          75721,\n          80184,\n          19864\n        ],\n        \"semantic_type\": \"\",\n        \"description\": \"\"\n      }\n    },\n    {\n      \"column\": \"success_transmition\",\n      \"properties\": {\n        \"dtype\": \"number\",\n        \"std\": 0.04017125461641663,\n        \"min\": 0.1,\n        \"max\": 0.47,\n        \"num_unique_values\": 36,\n        \"samples\": [\n          0.11,\n          0.3,\n          0.4\n        ],\n        \"semantic_type\": \"\",\n        \"description\": \"\"\n      }\n    },\n    {\n      \"column\": \"collision_transmition\",\n      \"properties\": {\n        \"dtype\": \"number\",\n        \"std\": 0.030740965685217385,\n        \"min\": 0.46,\n        \"max\": 0.72,\n        \"num_unique_values\": 27,\n        \"samples\": [\n          0.64,\n          0.69,\n          0.54\n        ],\n        \"semantic_type\": \"\",\n        \"description\": \"\"\n      }\n    },\n    {\n      \"column\": \"preambles_not_selected\",\n      \"properties\": {\n        \"dtype\": \"number\",\n        \"std\": 0.028313816786724646,\n        \"min\": 0.02,\n        \"max\": 0.26,\n        \"num_unique_values\": 25,\n        \"samples\": [\n          0.19,\n          0.06,\n          0.15\n        ],\n        \"semantic_type\": \"\",\n        \"description\": \"\"\n      }\n    },\n    {\n      \"column\": \"iterations\",\n      \"properties\": {\n        \"dtype\": \"number\",\n        \"std\": 0,\n        \"min\": 100000,\n        \"max\": 100000,\n        \"num_unique_values\": 1,\n        \"samples\": [\n          100000\n        ],\n        \"semantic_type\": \"\",\n        \"description\": \"\"\n      }\n    }\n  ]\n}"
            }
          },
          "metadata": {},
          "execution_count": 32
        }
      ]
    },
    {
      "cell_type": "markdown",
      "source": [
        "## Mean Success Transmition"
      ],
      "metadata": {
        "id": "cCevviyxnlAt"
      }
    },
    {
      "cell_type": "code",
      "source": [
        "## Simulation\n",
        "p_x_1_sim = df_k_10['success_transmition'].mean()\n",
        "print(f'Probabilidad de suceso - Montecarlo: {p_x_1_sim*M}')\n"
      ],
      "metadata": {
        "colab": {
          "base_uri": "https://localhost:8080/"
        },
        "id": "EnruN3-mnnH3",
        "outputId": "32f85d31-acf5-49c4-8a13-527c338ef963"
      },
      "execution_count": 34,
      "outputs": [
        {
          "output_type": "stream",
          "name": "stdout",
          "text": [
            "Probabilidad de suceso - Montecarlo: 27.07228\n"
          ]
        }
      ]
    },
    {
      "cell_type": "code",
      "source": [
        "# Analytical Model\n",
        "p_x_1 = mean_poisson * math.exp(-mean_poisson)\n",
        "print(f'Probabilidad de suceso - Analítico: {p_x_1*M}')\n"
      ],
      "metadata": {
        "colab": {
          "base_uri": "https://localhost:8080/"
        },
        "id": "Qgq_8gGYy4c8",
        "outputId": "12c1de99-5729-4a2f-a4db-162cb72f3d5d"
      },
      "execution_count": 35,
      "outputs": [
        {
          "output_type": "stream",
          "name": "stdout",
          "text": [
            "Probabilidad de suceso - Analítico: 27.06705664732254\n"
          ]
        }
      ]
    },
    {
      "cell_type": "code",
      "source": [],
      "metadata": {
        "id": "PGSR8DeJYBZw"
      },
      "execution_count": null,
      "outputs": []
    },
    {
      "cell_type": "code",
      "source": [
        "# Definir el valor analítico para lambda = 2\n",
        "analytical_value = p_x_1\n",
        "\n",
        "# Filtrar los datos para la iteración 10\n",
        "df_10_filtered = df_k_10\n",
        "\n",
        "# Crear el gráfico de puntos\n",
        "plt.figure(figsize=(10, 6))\n",
        "plt.scatter(df_k_10.index, df_10_filtered['success_transmition'], label='Simulation Value', color='blue')\n",
        "plt.axhline(y=analytical_value, color='red', linestyle='--', label='Analytical Value')\n",
        "\n",
        "plt.xlabel('Iteration')\n",
        "plt.ylabel('Value')\n",
        "plt.title('Comparison of Simulated and Analytical Values for 10000 Iterations')\n",
        "plt.legend()\n",
        "plt.grid(True)\n",
        "plt.show()"
      ],
      "metadata": {
        "id": "G8oeKpd81jOZ",
        "colab": {
          "base_uri": "https://localhost:8080/",
          "height": 564
        },
        "outputId": "0f7e5b83-8bc6-4dd3-c020-d03caff8cf96"
      },
      "execution_count": null,
      "outputs": [
        {
          "output_type": "display_data",
          "data": {
            "text/plain": [
              "<Figure size 1000x600 with 1 Axes>"
            ],
            "image/png": "[encoded data removed]"
          },
          "metadata": {}
        }
      ]
    },
    {
      "cell_type": "code",
      "source": [
        "from scipy.stats import norm\n",
        "import numpy as np\n",
        "import matplotlib.pyplot as plt\n",
        "from scipy.stats import norm\n",
        "import matplotlib.colors as mcolors\n",
        "import matplotlib.cm as cm\n",
        "\n",
        "# Filtrar los datos para la iteración 10\n",
        "df_10_filtered = combined_df[combined_df['iterations'] == 10]\n",
        "\n",
        "# Valores simulados\n",
        "simulated_values = df_10_filtered['success_transmition'].values\n",
        "\n",
        "# Gráfico de PDF (Función de Densidad de Probabilidad)\n",
        "plt.figure(figsize=(14, 6))\n",
        "\n",
        "# PDF\n",
        "\n",
        "\n",
        "plt.subplot(1, 2, 1)\n",
        "count, bins, ignored = plt.hist(simulated_values, 30, density=True, alpha=0.6, color='b')\n",
        "mu, std = norm.fit(simulated_values)\n",
        "p = norm.pdf(bins, mu, std)\n",
        "plt.plot(bins, p, 'k', linewidth=2)\n",
        "plt.title('Probability Density Function (PDF)')\n",
        "plt.xlabel('Value')\n",
        "plt.ylabel('Density')\n",
        "plt.grid(True)\n",
        "\n",
        "# CDF (Cumulative Distribution Function)\n",
        "plt.subplot(1, 2, 2)\n",
        "sorted_values = np.sort(simulated_values)\n",
        "cdf = np.arange(1, len(sorted_values) + 1) / len(sorted_values)\n",
        "\n",
        "# Create a color map that transitions from red to blue\n",
        "cmap = mcolors.LinearSegmentedColormap.from_list(\"RedBlue\", [\"red\", \"blue\"])\n",
        "\n",
        "# Plot points with a gradient color\n",
        "for i in range(len(sorted_values) - 1):\n",
        "    plt.plot(sorted_values[i:i+2], cdf[i:i+2], color=cmap(i / len(sorted_values)))\n",
        "\n",
        "plt.plot(sorted_values, cdf, marker='.', linestyle='none')\n",
        "plt.title('Cumulative Distribution Function (CDF)')\n",
        "plt.xlabel('Value')\n",
        "plt.ylabel('Cumulative Probability')\n",
        "plt.grid(True)\n",
        "\n",
        "plt.tight_layout()\n",
        "plt.show()\n",
        "\n"
      ],
      "metadata": {
        "colab": {
          "base_uri": "https://localhost:8080/",
          "height": 607
        },
        "id": "ArqL1Y6gcI03",
        "outputId": "28ac81be-5352-4cab-b30c-57019aca2931"
      },
      "execution_count": null,
      "outputs": [
        {
          "output_type": "display_data",
          "data": {
            "text/plain": [
              "<Figure size 1400x600 with 2 Axes>"
            ],
            "image/png": "[encoded data removed]"
          },
          "metadata": {}
        }
      ]
    },
    {
      "cell_type": "markdown",
      "source": [
        "## Mean of Collision Transmition"
      ],
      "metadata": {
        "id": "Si57qYbyqLE-"
      }
    },
    {
      "cell_type": "code",
      "source": [
        "#Simulación\n",
        "df_k_10['collision_transmition'].mean()"
      ],
      "metadata": {
        "colab": {
          "base_uri": "https://localhost:8080/"
        },
        "id": "xlU-84sdqOAm",
        "outputId": "58af20ff-c73a-4e8e-a94e-f39ebf523f88"
      },
      "execution_count": null,
      "outputs": [
        {
          "output_type": "execute_result",
          "data": {
            "text/plain": [
              "0.5952562"
            ]
          },
          "metadata": {},
          "execution_count": 126
        }
      ]
    },
    {
      "cell_type": "markdown",
      "source": [
        "\n",
        "\n",
        "\n",
        "\\begin{equation}\n",
        "\\\n",
        "P(\\text{colisión en un preámbulo}) = 1 - P(X = 0) - P(X = 1)\\\n",
        "\\end{equation}"
      ],
      "metadata": {
        "id": "yaPQ0hpmSdUr"
      }
    },
    {
      "cell_type": "code",
      "source": [
        "# Analytical Model\n",
        "p_collision_analytical = 1 - (math.exp(-mean_poisson) + mean_poisson*math.exp(-mean_poisson))\n",
        "p_collision_analytical"
      ],
      "metadata": {
        "id": "1P7gdeeP1hyn",
        "colab": {
          "base_uri": "https://localhost:8080/"
        },
        "outputId": "d96e7a9e-d3b6-4a2d-b687-dc3b528ffcec"
      },
      "execution_count": null,
      "outputs": [
        {
          "output_type": "execute_result",
          "data": {
            "text/plain": [
              "0.5939941502901619"
            ]
          },
          "metadata": {},
          "execution_count": 127
        }
      ]
    },
    {
      "cell_type": "code",
      "source": [
        "# Definir el valor analítico para lambda = 2\n",
        "analytical_value = p_collision_analytical\n",
        "\n",
        "# Filtrar los datos para la iteración 10\n",
        "df_10_filtered = df_k_10\n",
        "\n",
        "# Crear el gráfico de puntos\n",
        "plt.figure(figsize=(10, 6))\n",
        "plt.scatter(df_10_filtered.index, df_10_filtered['collision_transmition'], label='Simulation Value', color='blue')\n",
        "plt.axhline(y=analytical_value, color='red', linestyle='--', label='Analytical Value')\n",
        "\n",
        "plt.xlabel('Iteration')\n",
        "plt.ylabel('Value')\n",
        "plt.title(f'Comparison of Simulated and Analytical Values for {k} Iterations')\n",
        "plt.legend()\n",
        "plt.grid(True)\n",
        "plt.show()"
      ],
      "metadata": {
        "colab": {
          "base_uri": "https://localhost:8080/",
          "height": 564
        },
        "id": "EYFFVZE_cuOg",
        "outputId": "692c9cf8-fa3f-469c-c617-87ae43809629"
      },
      "execution_count": null,
      "outputs": [
        {
          "output_type": "display_data",
          "data": {
            "text/plain": [
              "<Figure size 1000x600 with 1 Axes>"
            ],
            "image/png": "[encoded data removed]"
          },
          "metadata": {}
        }
      ]
    },
    {
      "cell_type": "code",
      "source": [
        "# Filtrar los datos para la iteración 10\n",
        "df_10_filtered = combined_df[combined_df['iterations'] == k]\n",
        "\n",
        "# Valores simulados\n",
        "simulated_values = df_10_filtered['collision_transmition'].values\n",
        "\n",
        "# Gráfico de PDF (Función de Densidad de Probabilidad)\n",
        "plt.figure(figsize=(14, 6))\n",
        "\n",
        "# PDF\n",
        "\n",
        "\n",
        "plt.subplot(1, 2, 1)\n",
        "count, bins, ignored = plt.hist(simulated_values, 30, density=True, alpha=0.6, color='b')\n",
        "mu, std = norm.fit(simulated_values)\n",
        "p = norm.pdf(bins, mu, std)\n",
        "plt.plot(bins, p, 'k', linewidth=2)\n",
        "plt.title('Probability Density Function (PDF)')\n",
        "plt.xlabel('Value')\n",
        "plt.ylabel('Density')\n",
        "plt.grid(True)\n",
        "\n",
        "# CDF (Cumulative Distribution Function)\n",
        "plt.subplot(1, 2, 2)\n",
        "sorted_values = np.sort(simulated_values)\n",
        "cdf = np.arange(1, len(sorted_values) + 1) / len(sorted_values)\n",
        "\n",
        "# Create a color map that transitions from red to blue\n",
        "cmap = mcolors.LinearSegmentedColormap.from_list(\"RedBlue\", [\"red\", \"blue\"])\n",
        "\n",
        "# Plot points with a gradient color\n",
        "for i in range(len(sorted_values) - 1):\n",
        "    plt.plot(sorted_values[i:i+2], cdf[i:i+2], color=cmap(i / len(sorted_values)))\n",
        "\n",
        "plt.plot(sorted_values, cdf, marker='.', linestyle='none')\n",
        "plt.title('Cumulative Distribution Function (CDF)')\n",
        "plt.xlabel('Value')\n",
        "plt.ylabel('Cumulative Probability')\n",
        "plt.grid(True)\n",
        "\n",
        "plt.tight_layout()\n",
        "plt.show()\n"
      ],
      "metadata": {
        "colab": {
          "base_uri": "https://localhost:8080/",
          "height": 607
        },
        "id": "GN5ElzVye11H",
        "outputId": "69a6fe95-fe9a-462d-ee69-80745f02d644"
      },
      "execution_count": null,
      "outputs": [
        {
          "output_type": "display_data",
          "data": {
            "text/plain": [
              "<Figure size 1400x600 with 2 Axes>"
            ],
            "image/png": "[encoded data removed]"
          },
          "metadata": {}
        }
      ]
    },
    {
      "cell_type": "markdown",
      "source": [
        "## Mean of system Utilization"
      ],
      "metadata": {
        "id": "IIdPVKG5shQn"
      }
    },
    {
      "cell_type": "code",
      "source": [
        "# Por simulacion\n",
        "1 - df_k_10['preambles_not_selected'].mean()"
      ],
      "metadata": {
        "colab": {
          "base_uri": "https://localhost:8080/"
        },
        "id": "puPwiW6Zsm3v",
        "outputId": "7c1f8e73-2cb3-480b-fe09-b0a7af7023e8"
      },
      "execution_count": null,
      "outputs": [
        {
          "output_type": "execute_result",
          "data": {
            "text/plain": [
              "0.8660403999999999"
            ]
          },
          "metadata": {},
          "execution_count": 150
        }
      ]
    },
    {
      "cell_type": "markdown",
      "source": [
        "\n",
        "\\begin{equation}\n",
        "\\\n",
        "P(\\text{Utilización}) = 1 - P(X = 0)\\\n",
        "\\end{equation}"
      ],
      "metadata": {
        "id": "5IAFaSrgTYd3"
      }
    },
    {
      "cell_type": "code",
      "source": [
        "## Por modelo analitico\n",
        "p_utilización_sistema = 1 - math.exp(-mean_poisson)\n",
        "p_utilización_sistema"
      ],
      "metadata": {
        "id": "b2LkpXb22RKp",
        "colab": {
          "base_uri": "https://localhost:8080/"
        },
        "outputId": "e677d1b9-5295-4454-e3a8-7c0973d5da08"
      },
      "execution_count": null,
      "outputs": [
        {
          "output_type": "execute_result",
          "data": {
            "text/plain": [
              "0.8646647167633873"
            ]
          },
          "metadata": {},
          "execution_count": 144
        }
      ]
    },
    {
      "cell_type": "code",
      "source": [
        "1 - df_k_10['preambles_not_selected']"
      ],
      "metadata": {
        "id": "3BlVrF5Nd6kg",
        "outputId": "57a06426-a1d4-476d-f27a-41af005ef2ad",
        "colab": {
          "base_uri": "https://localhost:8080/"
        }
      },
      "execution_count": null,
      "outputs": [
        {
          "output_type": "execute_result",
          "data": {
            "text/plain": [
              "0        0.88\n",
              "1        0.87\n",
              "2        0.90\n",
              "3        0.86\n",
              "4        0.88\n",
              "         ... \n",
              "99995    0.88\n",
              "99996    0.86\n",
              "99997    0.86\n",
              "99998    0.89\n",
              "99999    0.87\n",
              "Name: preambles_not_selected, Length: 100000, dtype: float64"
            ]
          },
          "metadata": {},
          "execution_count": 132
        }
      ]
    },
    {
      "cell_type": "code",
      "source": [
        "data_utilization = 1 - df_k_10['preambles_not_selected']\n",
        "\n",
        "# Definir el valor analítico para lambda = 2\n",
        "analytical_value = p_utilización_sistema\n",
        "\n",
        "# Filtrar los datos para la iteración 10\n",
        "df_10_filtered = df_k_10\n",
        "\n",
        "# Crear el gráfico de puntos\n",
        "plt.figure(figsize=(10, 6))\n",
        "plt.scatter(df_10_filtered.index, data_utilization, label='Simulation Value', color='blue')\n",
        "plt.axhline(y=analytical_value, color='red', linestyle='--', label='Analytic Value')\n",
        "\n",
        "plt.xlabel('Iteratin')\n",
        "plt.ylabel('Value')\n",
        "plt.title(f'Comparison of Simulated and Analytical Values for {k} Iterations')\n",
        "plt.legend()\n",
        "plt.grid(True)\n",
        "plt.show()"
      ],
      "metadata": {
        "colab": {
          "base_uri": "https://localhost:8080/",
          "height": 564
        },
        "id": "h3DWJFa0dZJi",
        "outputId": "1c466dc1-fd0f-47eb-c1d7-e3e88b4f9dd4"
      },
      "execution_count": null,
      "outputs": [
        {
          "output_type": "display_data",
          "data": {
            "text/plain": [
              "<Figure size 1000x600 with 1 Axes>"
            ],
            "image/png": "[encoded data removed]"
          },
          "metadata": {}
        }
      ]
    },
    {
      "cell_type": "code",
      "source": [
        "# Filtrar los datos para la iteración 10\n",
        "df_10_filtered = 1 - df_k_10['preambles_not_selected']\n",
        "\n",
        "# Valores simulados\n",
        "simulated_values = df_10_filtered.values\n",
        "\n",
        "# Gráfico de PDF (Función de Densidad de Probabilidad)\n",
        "plt.figure(figsize=(14, 6))\n",
        "\n",
        "# PDF\n",
        "\n",
        "\n",
        "plt.subplot(1, 2, 1)\n",
        "count, bins, ignored = plt.hist(simulated_values, 30, density=True, alpha=0.6, color='b')\n",
        "mu, std = norm.fit(simulated_values)\n",
        "p = norm.pdf(bins, mu, std)\n",
        "plt.plot(bins, p, 'k', linewidth=2)\n",
        "plt.title('Probability Density Function (PDF)')\n",
        "plt.xlabel('Value')\n",
        "plt.ylabel('Density')\n",
        "plt.grid(True)\n",
        "\n",
        "# CDF (Cumulative Distribution Function)\n",
        "plt.subplot(1, 2, 2)\n",
        "sorted_values = np.sort(simulated_values)\n",
        "cdf = np.arange(1, len(sorted_values) + 1) / len(sorted_values)\n",
        "\n",
        "# Create a color map that transitions from red to blue\n",
        "cmap = mcolors.LinearSegmentedColormap.from_list(\"RedBlue\", [\"red\", \"blue\"])\n",
        "\n",
        "# Plot points with a gradient color\n",
        "for i in range(len(sorted_values) - 1):\n",
        "    plt.plot(sorted_values[i:i+2], cdf[i:i+2], color=cmap(i / len(sorted_values)))\n",
        "\n",
        "plt.plot(sorted_values, cdf, marker='.', linestyle='none')\n",
        "plt.title('Cumulative Distribution Function (CDF)')\n",
        "plt.xlabel('Value')\n",
        "plt.ylabel('Cumulative Probability')\n",
        "plt.grid(True)\n",
        "\n",
        "plt.tight_layout()\n",
        "plt.show()\n"
      ],
      "metadata": {
        "colab": {
          "base_uri": "https://localhost:8080/",
          "height": 607
        },
        "id": "2UkgCIWgw0PB",
        "outputId": "49cd8d90-1598-4ad3-e532-b714f819a2ce"
      },
      "execution_count": null,
      "outputs": [
        {
          "output_type": "display_data",
          "data": {
            "text/plain": [
              "<Figure size 1400x600 with 2 Axes>"
            ],
            "image/png": "[encoded data removed]"
          },
          "metadata": {}
        }
      ]
    },
    {
      "cell_type": "markdown",
      "source": [
        "## Number of Success Transmition in `M` channels\n"
      ],
      "metadata": {
        "id": "nOOgQbOEoDEI"
      }
    },
    {
      "cell_type": "code",
      "source": [
        "# Cantidad de preambulos bien transmitidos, de M en total\n",
        "df_k_10['success_transmition'].mean()*M"
      ],
      "metadata": {
        "colab": {
          "base_uri": "https://localhost:8080/"
        },
        "id": "51E_OAehnddx",
        "outputId": "c3b5fb97-befa-4814-9da9-aa3afc9aafd0"
      },
      "execution_count": null,
      "outputs": [
        {
          "output_type": "execute_result",
          "data": {
            "text/plain": [
              "29.300000000000004"
            ]
          },
          "metadata": {},
          "execution_count": 34
        }
      ]
    },
    {
      "cell_type": "code",
      "source": [
        "## Por modelo analítico\n",
        "\n",
        "total_channels_success = p_x_1*M\n",
        "total_channels_success"
      ],
      "metadata": {
        "id": "oOvo8rdS2Vip",
        "colab": {
          "base_uri": "https://localhost:8080/"
        },
        "outputId": "3cc75b2f-d95c-4874-81eb-bc38a9d470d4"
      },
      "execution_count": null,
      "outputs": [
        {
          "output_type": "execute_result",
          "data": {
            "text/plain": [
              "27.06705664732254"
            ]
          },
          "metadata": {},
          "execution_count": 26
        }
      ]
    },
    {
      "cell_type": "markdown",
      "source": [
        "## Number of Collision Transmition in `M` channels\n"
      ],
      "metadata": {
        "id": "ESd2pieaqTwO"
      }
    },
    {
      "cell_type": "code",
      "source": [
        "#por simulation\n",
        "df_k_10['collision_transmition'].mean()*M"
      ],
      "metadata": {
        "colab": {
          "base_uri": "https://localhost:8080/"
        },
        "id": "V1sxfmjhoMeD",
        "outputId": "63a20d1d-c6a1-47b5-cbe0-f42487849e87"
      },
      "execution_count": null,
      "outputs": [
        {
          "output_type": "execute_result",
          "data": {
            "text/plain": [
              "57.3"
            ]
          },
          "metadata": {},
          "execution_count": 36
        }
      ]
    },
    {
      "cell_type": "code",
      "source": [
        "## por modelado analitico\n",
        "\n",
        "total_channels_collision = p_collision_analytical*M\n",
        "total_channels_collision"
      ],
      "metadata": {
        "id": "DfWxI9IQ2cNB",
        "colab": {
          "base_uri": "https://localhost:8080/"
        },
        "outputId": "e94bf583-74a5-4f1b-c254-ca93b250148d"
      },
      "execution_count": null,
      "outputs": [
        {
          "output_type": "execute_result",
          "data": {
            "text/plain": [
              "59.39941502901619"
            ]
          },
          "metadata": {},
          "execution_count": 37
        }
      ]
    },
    {
      "cell_type": "markdown",
      "source": [
        "## Number of `M` channels Used"
      ],
      "metadata": {
        "id": "7PC0ZdFOsvHI"
      }
    },
    {
      "cell_type": "code",
      "source": [
        "#por simulacion\n",
        "(1 - df_k_10['preambles_not_selected'].mean()) * M"
      ],
      "metadata": {
        "colab": {
          "base_uri": "https://localhost:8080/"
        },
        "id": "JhnkRG4BqWfq",
        "outputId": "95aa53d0-2744-4c1b-c9ce-b52b33648465"
      },
      "execution_count": null,
      "outputs": [
        {
          "output_type": "execute_result",
          "data": {
            "text/plain": [
              "86.6"
            ]
          },
          "metadata": {},
          "execution_count": 38
        }
      ]
    },
    {
      "cell_type": "code",
      "source": [
        "#por analitica\n",
        "total_channel_used  = p_utilización_sistema * M\n",
        "total_channel_used"
      ],
      "metadata": {
        "colab": {
          "base_uri": "https://localhost:8080/"
        },
        "id": "1vuZf8AKUIlM",
        "outputId": "ece88259-f25a-45d3-c131-34ca6d7374e8"
      },
      "execution_count": null,
      "outputs": [
        {
          "output_type": "execute_result",
          "data": {
            "text/plain": [
              "86.46647167633873"
            ]
          },
          "metadata": {},
          "execution_count": 39
        }
      ]
    },
    {
      "cell_type": "markdown",
      "source": [
        "# Band with Utilization\n"
      ],
      "metadata": {
        "id": "sCv3jj-PW0qV"
      }
    },
    {
      "cell_type": "code",
      "source": [
        "# Band with Utilization\n",
        "B_total = 100 #100mbps\n",
        "\n",
        "B_preambulo = B_total/M\n"
      ],
      "metadata": {
        "id": "CO28AHSD2iHE"
      },
      "execution_count": null,
      "outputs": []
    },
    {
      "cell_type": "markdown",
      "source": [
        "La utilización efectiva del sistema, como se derivó anteriormente, es:\n",
        "\n"
      ],
      "metadata": {
        "id": "kYCQ29BbVRN_"
      }
    },
    {
      "cell_type": "code",
      "source": [
        "U_efectiva = p_utilización_sistema"
      ],
      "metadata": {
        "id": "iDrAKfjV2iE_"
      },
      "execution_count": null,
      "outputs": []
    },
    {
      "cell_type": "markdown",
      "source": [
        "\n",
        "- B_total = 100 Mbps (Megabits por segundo)\n",
        "- M=100 channels\n",
        "- 𝜆 = 2\n",
        "- U_efectiva =  Utilización efectiva\n"
      ],
      "metadata": {
        "id": "fIKUzAL2V68j"
      }
    },
    {
      "cell_type": "code",
      "source": [
        "U_efectiva"
      ],
      "metadata": {
        "colab": {
          "base_uri": "https://localhost:8080/"
        },
        "id": "E9BONZ1x1ybp",
        "outputId": "e786c0ff-d06c-4987-86af-069e7ab9ca6d"
      },
      "execution_count": null,
      "outputs": [
        {
          "output_type": "execute_result",
          "data": {
            "text/plain": [
              "0.8646647167633873"
            ]
          },
          "metadata": {},
          "execution_count": 183
        }
      ]
    },
    {
      "cell_type": "code",
      "source": [
        "B_utilizado = B_total * U_efectiva\n",
        "\n",
        "print(f'Ancho de banda utilizado = {round(B_utilizado,2)} Mbps')"
      ],
      "metadata": {
        "id": "JR0omNuI2iC4",
        "colab": {
          "base_uri": "https://localhost:8080/"
        },
        "outputId": "2a1b43f4-5a3e-4dac-a6f3-92af8037d3ce"
      },
      "execution_count": null,
      "outputs": [
        {
          "output_type": "stream",
          "name": "stdout",
          "text": [
            "Ancho de banda utilizado = 86.47 Mbps\n"
          ]
        }
      ]
    },
    {
      "cell_type": "code",
      "source": [
        "## Gráfica\n"
      ],
      "metadata": {
        "id": "SbQvIrHV2iAz"
      },
      "execution_count": null,
      "outputs": []
    },
    {
      "cell_type": "code",
      "source": [],
      "metadata": {
        "id": "FoDzicAZ2h-n"
      },
      "execution_count": null,
      "outputs": []
    },
    {
      "cell_type": "code",
      "source": [],
      "metadata": {
        "id": "p31kf9gH2h6P"
      },
      "execution_count": null,
      "outputs": []
    },
    {
      "cell_type": "code",
      "source": [],
      "metadata": {
        "id": "cfmF9kob2h36"
      },
      "execution_count": null,
      "outputs": []
    },
    {
      "cell_type": "code",
      "source": [],
      "metadata": {
        "id": "vYhkimnOwjCP"
      },
      "execution_count": null,
      "outputs": []
    }
  ]
}